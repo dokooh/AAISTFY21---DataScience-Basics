{
 "cells": [
  {
   "cell_type": "markdown",
   "metadata": {
    "papermill": {
     "duration": 0.051682,
     "end_time": "2021-05-09T02:05:08.887279",
     "exception": false,
     "start_time": "2021-05-09T02:05:08.835597",
     "status": "completed"
    },
    "tags": []
   },
   "source": [
    "In this project I will be exploring the data set and predicting the price of the car.\n",
    "\n",
    "In this Notebook we will be covering following topics\n",
    "\n",
    "1.Data Preprocessing\n",
    "\n",
    "2.Handling Missing Values\n",
    "\n",
    "3.Exploratory Data Analysis\n",
    "\n",
    "4.Building Machine Learning Model\n",
    "\n",
    "5.Model Evaluation\n",
    "\n",
    "6.Conclusion \n",
    "\n",
    "To can refer to my other notebooks from https://www.kaggle.com/binuthomasphilip/code"
   ]
  },
  {
   "cell_type": "code",
   "execution_count": null,
   "metadata": {
    "_cell_guid": "b1076dfc-b9ad-4769-8c92-a6c4dae69d19",
    "_kg_hide-input": true,
    "_uuid": "8f2839f25d086af736a60e9eeb907d3b93b6e0e5",
    "execution": {
     "iopub.execute_input": "2021-05-09T02:05:08.998404Z",
     "iopub.status.busy": "2021-05-09T02:05:08.997755Z",
     "iopub.status.idle": "2021-05-09T02:05:09.012245Z",
     "shell.execute_reply": "2021-05-09T02:05:09.012990Z"
    },
    "papermill": {
     "duration": 0.07377,
     "end_time": "2021-05-09T02:05:09.013410",
     "exception": false,
     "start_time": "2021-05-09T02:05:08.939640",
     "status": "completed"
    },
    "tags": []
   },
   "outputs": [],
   "source": [
    "# This Python 3 environment comes with many helpful analytics libraries installed\n",
    "# It is defined by the kaggle/python Docker image: https://github.com/kaggle/docker-python\n",
    "# For example, here's several helpful packages to load\n",
    "\n",
    "import numpy as np # linear algebra\n",
    "import pandas as pd # data processing, CSV file I/O (e.g. pd.read_csv)\n",
    "\n",
    "# Input data files are available in the read-only \"../input/\" directory\n",
    "# For example, running this (by clicking run or pressing Shift+Enter) will list all files under the input directory\n",
    "\n",
    "import os\n",
    "for dirname, _, filenames in os.walk('/kaggle/input'):\n",
    "    for filename in filenames:\n",
    "        print(os.path.join(dirname, filename))\n",
    "\n",
    "# You can write up to 20GB to the current directory (/kaggle/working/) that gets preserved as output when you create a version using \"Save & Run All\" \n",
    "# You can also write temporary files to /kaggle/temp/, but they won't be saved outside of the current session"
   ]
  },
  {
   "cell_type": "markdown",
   "metadata": {
    "papermill": {
     "duration": 0.052846,
     "end_time": "2021-05-09T02:05:09.119701",
     "exception": false,
     "start_time": "2021-05-09T02:05:09.066855",
     "status": "completed"
    },
    "tags": []
   },
   "source": [
    "# 1.Data Preprocessing"
   ]
  },
  {
   "cell_type": "markdown",
   "metadata": {
    "papermill": {
     "duration": 0.051574,
     "end_time": "2021-05-09T02:05:09.224293",
     "exception": false,
     "start_time": "2021-05-09T02:05:09.172719",
     "status": "completed"
    },
    "tags": []
   },
   "source": [
    "### Importing Python Modules"
   ]
  },
  {
   "cell_type": "code",
   "execution_count": null,
   "metadata": {
    "_kg_hide-input": true,
    "execution": {
     "iopub.execute_input": "2021-05-09T02:05:09.332511Z",
     "iopub.status.busy": "2021-05-09T02:05:09.331511Z",
     "iopub.status.idle": "2021-05-09T02:05:10.207182Z",
     "shell.execute_reply": "2021-05-09T02:05:10.206493Z"
    },
    "papermill": {
     "duration": 0.931362,
     "end_time": "2021-05-09T02:05:10.207343",
     "exception": false,
     "start_time": "2021-05-09T02:05:09.275981",
     "status": "completed"
    },
    "tags": []
   },
   "outputs": [],
   "source": [
    "import pandas as pd\n",
    "import numpy as np\n",
    "import matplotlib.pyplot as plt \n",
    "#plt.style.use('seaborn')\n",
    "import seaborn as sns\n",
    "plt.style.use('fivethirtyeight')\n",
    "import warnings\n",
    "warnings.filterwarnings('ignore')"
   ]
  },
  {
   "cell_type": "markdown",
   "metadata": {
    "papermill": {
     "duration": 0.054278,
     "end_time": "2021-05-09T02:05:10.314060",
     "exception": false,
     "start_time": "2021-05-09T02:05:10.259782",
     "status": "completed"
    },
    "tags": []
   },
   "source": [
    "### Importing data"
   ]
  },
  {
   "cell_type": "code",
   "execution_count": null,
   "metadata": {
    "_kg_hide-input": true,
    "execution": {
     "iopub.execute_input": "2021-05-09T02:05:10.426015Z",
     "iopub.status.busy": "2021-05-09T02:05:10.425271Z",
     "iopub.status.idle": "2021-05-09T02:05:10.487198Z",
     "shell.execute_reply": "2021-05-09T02:05:10.487761Z"
    },
    "papermill": {
     "duration": 0.119585,
     "end_time": "2021-05-09T02:05:10.487948",
     "exception": false,
     "start_time": "2021-05-09T02:05:10.368363",
     "status": "completed"
    },
    "tags": []
   },
   "outputs": [],
   "source": [
    "car=pd.read_csv('../input/automobile-dataset/Automobile_data.csv')\n",
    "car.head(2)"
   ]
  },
  {
   "cell_type": "markdown",
   "metadata": {
    "papermill": {
     "duration": 0.053125,
     "end_time": "2021-05-09T02:05:10.598559",
     "exception": false,
     "start_time": "2021-05-09T02:05:10.545434",
     "status": "completed"
    },
    "tags": []
   },
   "source": [
    "### Summary of Dataset"
   ]
  },
  {
   "cell_type": "code",
   "execution_count": null,
   "metadata": {
    "_kg_hide-input": true,
    "execution": {
     "iopub.execute_input": "2021-05-09T02:05:10.712411Z",
     "iopub.status.busy": "2021-05-09T02:05:10.711799Z",
     "iopub.status.idle": "2021-05-09T02:05:10.730181Z",
     "shell.execute_reply": "2021-05-09T02:05:10.729506Z"
    },
    "papermill": {
     "duration": 0.079138,
     "end_time": "2021-05-09T02:05:10.730317",
     "exception": false,
     "start_time": "2021-05-09T02:05:10.651179",
     "status": "completed"
    },
    "tags": []
   },
   "outputs": [],
   "source": [
    "print('Rows     :',car.shape[0])\n",
    "print('Columns  :',car.shape[1])\n",
    "print('\\nFeatures :\\n     :',car.columns.tolist())\n",
    "print('\\nMissing values    :',car.isnull().values.sum())\n",
    "print('\\nUnique values :  \\n',car.nunique())"
   ]
  },
  {
   "cell_type": "markdown",
   "metadata": {
    "papermill": {
     "duration": 0.052593,
     "end_time": "2021-05-09T02:05:10.836327",
     "exception": false,
     "start_time": "2021-05-09T02:05:10.783734",
     "status": "completed"
    },
    "tags": []
   },
   "source": [
    "### Missing Values"
   ]
  },
  {
   "cell_type": "code",
   "execution_count": null,
   "metadata": {
    "_kg_hide-input": true,
    "execution": {
     "iopub.execute_input": "2021-05-09T02:05:10.956046Z",
     "iopub.status.busy": "2021-05-09T02:05:10.954993Z",
     "iopub.status.idle": "2021-05-09T02:05:10.993880Z",
     "shell.execute_reply": "2021-05-09T02:05:10.993153Z"
    },
    "papermill": {
     "duration": 0.103367,
     "end_time": "2021-05-09T02:05:10.994021",
     "exception": false,
     "start_time": "2021-05-09T02:05:10.890654",
     "status": "completed"
    },
    "tags": []
   },
   "outputs": [],
   "source": [
    "total = car.isnull().sum().sort_values(ascending=False)\n",
    "percent = ((car.isnull().sum())*100)/car.isnull().count().sort_values(ascending=False)\n",
    "missing_data = pd.concat([total, percent], axis=1, keys=['Total','Percent'], sort=False).sort_values('Total', ascending=False)\n",
    "missing_data.head(40)\n"
   ]
  },
  {
   "cell_type": "markdown",
   "metadata": {
    "papermill": {
     "duration": 0.054447,
     "end_time": "2021-05-09T02:05:11.103254",
     "exception": false,
     "start_time": "2021-05-09T02:05:11.048807",
     "status": "completed"
    },
    "tags": []
   },
   "source": [
    "We see from above data that there are no missing values in the dataset"
   ]
  },
  {
   "cell_type": "markdown",
   "metadata": {
    "papermill": {
     "duration": 0.053619,
     "end_time": "2021-05-09T02:05:11.210933",
     "exception": false,
     "start_time": "2021-05-09T02:05:11.157314",
     "status": "completed"
    },
    "tags": []
   },
   "source": [
    "### Data info "
   ]
  },
  {
   "cell_type": "code",
   "execution_count": null,
   "metadata": {
    "_kg_hide-input": true,
    "execution": {
     "iopub.execute_input": "2021-05-09T02:05:11.327802Z",
     "iopub.status.busy": "2021-05-09T02:05:11.327140Z",
     "iopub.status.idle": "2021-05-09T02:05:11.330037Z",
     "shell.execute_reply": "2021-05-09T02:05:11.330656Z"
    },
    "papermill": {
     "duration": 0.065618,
     "end_time": "2021-05-09T02:05:11.330849",
     "exception": false,
     "start_time": "2021-05-09T02:05:11.265231",
     "status": "completed"
    },
    "tags": []
   },
   "outputs": [],
   "source": [
    "#car.info"
   ]
  },
  {
   "cell_type": "markdown",
   "metadata": {
    "papermill": {
     "duration": 0.053877,
     "end_time": "2021-05-09T02:05:11.439225",
     "exception": false,
     "start_time": "2021-05-09T02:05:11.385348",
     "status": "completed"
    },
    "tags": []
   },
   "source": [
    "Using the info command we can see that in many place data is represent by symbol ?.We have to replace ? with the mean value of the columns.We have to first prepare the data by doing cleaning on the data set."
   ]
  },
  {
   "cell_type": "markdown",
   "metadata": {
    "papermill": {
     "duration": 0.054225,
     "end_time": "2021-05-09T02:05:11.547807",
     "exception": false,
     "start_time": "2021-05-09T02:05:11.493582",
     "status": "completed"
    },
    "tags": []
   },
   "source": [
    "# 2.Handling Missing Values"
   ]
  },
  {
   "cell_type": "markdown",
   "metadata": {
    "papermill": {
     "duration": 0.054066,
     "end_time": "2021-05-09T02:05:11.656395",
     "exception": false,
     "start_time": "2021-05-09T02:05:11.602329",
     "status": "completed"
    },
    "tags": []
   },
   "source": [
    "### Replacing ? Symbol with Mean of the Column"
   ]
  },
  {
   "cell_type": "code",
   "execution_count": null,
   "metadata": {
    "_kg_hide-input": true,
    "execution": {
     "iopub.execute_input": "2021-05-09T02:05:11.769364Z",
     "iopub.status.busy": "2021-05-09T02:05:11.768742Z",
     "iopub.status.idle": "2021-05-09T02:05:11.777096Z",
     "shell.execute_reply": "2021-05-09T02:05:11.776551Z"
    },
    "papermill": {
     "duration": 0.065457,
     "end_time": "2021-05-09T02:05:11.777255",
     "exception": false,
     "start_time": "2021-05-09T02:05:11.711798",
     "status": "completed"
    },
    "tags": []
   },
   "outputs": [],
   "source": [
    "a=car[car['normalized-losses']!='?']\n",
    "b=(a['normalized-losses'].astype(int)).mean()\n",
    "car['normalized-losses']=car['normalized-losses'].replace('?',b).astype(int)"
   ]
  },
  {
   "cell_type": "markdown",
   "metadata": {
    "papermill": {
     "duration": 0.054037,
     "end_time": "2021-05-09T02:05:11.886015",
     "exception": false,
     "start_time": "2021-05-09T02:05:11.831978",
     "status": "completed"
    },
    "tags": []
   },
   "source": [
    "We can see than in some places the value for num-of-doors data is marked as ?.We fill this with appropriate value of num of doors."
   ]
  },
  {
   "cell_type": "markdown",
   "metadata": {
    "papermill": {
     "duration": 0.053808,
     "end_time": "2021-05-09T02:05:11.994376",
     "exception": false,
     "start_time": "2021-05-09T02:05:11.940568",
     "status": "completed"
    },
    "tags": []
   },
   "source": [
    "### Cleaning num-of-doors"
   ]
  },
  {
   "cell_type": "code",
   "execution_count": null,
   "metadata": {
    "_kg_hide-input": true,
    "execution": {
     "iopub.execute_input": "2021-05-09T02:05:12.108142Z",
     "iopub.status.busy": "2021-05-09T02:05:12.107452Z",
     "iopub.status.idle": "2021-05-09T02:05:12.118949Z",
     "shell.execute_reply": "2021-05-09T02:05:12.118405Z"
    },
    "papermill": {
     "duration": 0.069877,
     "end_time": "2021-05-09T02:05:12.119089",
     "exception": false,
     "start_time": "2021-05-09T02:05:12.049212",
     "status": "completed"
    },
    "tags": []
   },
   "outputs": [],
   "source": [
    "a=car[car['body-style']=='sedan']\n",
    "a['num-of-doors'].value_counts()"
   ]
  },
  {
   "cell_type": "markdown",
   "metadata": {
    "papermill": {
     "duration": 0.054321,
     "end_time": "2021-05-09T02:05:12.228189",
     "exception": false,
     "start_time": "2021-05-09T02:05:12.173868",
     "status": "completed"
    },
    "tags": []
   },
   "source": [
    "In case of sedan cars the value of num-of-doors is missing in two places.We can see in most sedan cars the number of doors is 4.We can replace the missing values of num-of-doors with value 4"
   ]
  },
  {
   "cell_type": "code",
   "execution_count": null,
   "metadata": {
    "_kg_hide-input": true,
    "execution": {
     "iopub.execute_input": "2021-05-09T02:05:12.352300Z",
     "iopub.status.busy": "2021-05-09T02:05:12.351368Z",
     "iopub.status.idle": "2021-05-09T02:05:12.355871Z",
     "shell.execute_reply": "2021-05-09T02:05:12.356390Z"
    },
    "papermill": {
     "duration": 0.073564,
     "end_time": "2021-05-09T02:05:12.356578",
     "exception": false,
     "start_time": "2021-05-09T02:05:12.283014",
     "status": "completed"
    },
    "tags": []
   },
   "outputs": [],
   "source": [
    "a=car['num-of-doors'].map({'two':2,'four':4,'?':4})\n",
    "car['num-of-doors']=a"
   ]
  },
  {
   "cell_type": "markdown",
   "metadata": {
    "papermill": {
     "duration": 0.05467,
     "end_time": "2021-05-09T02:05:12.482589",
     "exception": false,
     "start_time": "2021-05-09T02:05:12.427919",
     "status": "completed"
    },
    "tags": []
   },
   "source": [
    "### Cleaning Price,Horse Power,Bore,Stroke and Peak RPM"
   ]
  },
  {
   "cell_type": "code",
   "execution_count": null,
   "metadata": {
    "_kg_hide-input": true,
    "execution": {
     "iopub.execute_input": "2021-05-09T02:05:12.605233Z",
     "iopub.status.busy": "2021-05-09T02:05:12.602226Z",
     "iopub.status.idle": "2021-05-09T02:05:12.617944Z",
     "shell.execute_reply": "2021-05-09T02:05:12.618432Z"
    },
    "papermill": {
     "duration": 0.081563,
     "end_time": "2021-05-09T02:05:12.618641",
     "exception": false,
     "start_time": "2021-05-09T02:05:12.537078",
     "status": "completed"
    },
    "tags": []
   },
   "outputs": [],
   "source": [
    "a=car[car['price']!='?']\n",
    "b=(a['price'].astype(int)).mean()\n",
    "car['price']=car['price'].replace('?',b).astype(int)\n",
    "\n",
    "a=car[car['horsepower']!='?']\n",
    "b=(a['horsepower'].astype(int)).mean()\n",
    "car['horsepower']=car['horsepower'].replace('?',b).astype(int)\n",
    "\n",
    "a=car[car['bore']!='?']\n",
    "b=(a['bore'].astype(float)).mean()\n",
    "car['bore']=car['bore'].replace('?',b).astype(float)\n",
    "\n",
    "a=car[car['stroke']!='?']\n",
    "b=(a['stroke'].astype(float)).mean()\n",
    "car['stroke']=car['stroke'].replace('?',b).astype(float)\n",
    "\n",
    "a=car[car['peak-rpm']!='?']\n",
    "b=(a['peak-rpm'].astype(float)).mean()\n",
    "car['peak-rpm']=car['peak-rpm'].replace('?',b).astype(float)"
   ]
  },
  {
   "cell_type": "markdown",
   "metadata": {
    "papermill": {
     "duration": 0.055722,
     "end_time": "2021-05-09T02:05:12.730026",
     "exception": false,
     "start_time": "2021-05-09T02:05:12.674304",
     "status": "completed"
    },
    "tags": []
   },
   "source": [
    "Missing all the ? symbol with the mean value of the columns "
   ]
  },
  {
   "cell_type": "markdown",
   "metadata": {
    "papermill": {
     "duration": 0.055802,
     "end_time": "2021-05-09T02:05:12.841171",
     "exception": false,
     "start_time": "2021-05-09T02:05:12.785369",
     "status": "completed"
    },
    "tags": []
   },
   "source": [
    "### Cleaning the Number of Cylinders"
   ]
  },
  {
   "cell_type": "code",
   "execution_count": null,
   "metadata": {
    "_kg_hide-input": true,
    "execution": {
     "iopub.execute_input": "2021-05-09T02:05:12.960764Z",
     "iopub.status.busy": "2021-05-09T02:05:12.960074Z",
     "iopub.status.idle": "2021-05-09T02:05:12.962998Z",
     "shell.execute_reply": "2021-05-09T02:05:12.963446Z"
    },
    "papermill": {
     "duration": 0.065922,
     "end_time": "2021-05-09T02:05:12.963707",
     "exception": false,
     "start_time": "2021-05-09T02:05:12.897785",
     "status": "completed"
    },
    "tags": []
   },
   "outputs": [],
   "source": [
    "a=car['num-of-cylinders'].map({'four':4,'five':5,'six':6,'?':4})\n",
    "car['num-of-doors']=a"
   ]
  },
  {
   "cell_type": "markdown",
   "metadata": {
    "papermill": {
     "duration": 0.055511,
     "end_time": "2021-05-09T02:05:13.075069",
     "exception": false,
     "start_time": "2021-05-09T02:05:13.019558",
     "status": "completed"
    },
    "tags": []
   },
   "source": [
    "In case of number of cylinders we have replaced the text values with numerical values."
   ]
  },
  {
   "cell_type": "markdown",
   "metadata": {
    "papermill": {
     "duration": 0.054829,
     "end_time": "2021-05-09T02:05:13.185583",
     "exception": false,
     "start_time": "2021-05-09T02:05:13.130754",
     "status": "completed"
    },
    "tags": []
   },
   "source": [
    "### Getting the basic stats of the data"
   ]
  },
  {
   "cell_type": "code",
   "execution_count": null,
   "metadata": {
    "_kg_hide-input": true,
    "execution": {
     "iopub.execute_input": "2021-05-09T02:05:13.307288Z",
     "iopub.status.busy": "2021-05-09T02:05:13.306582Z",
     "iopub.status.idle": "2021-05-09T02:05:13.371272Z",
     "shell.execute_reply": "2021-05-09T02:05:13.371910Z"
    },
    "papermill": {
     "duration": 0.131248,
     "end_time": "2021-05-09T02:05:13.372105",
     "exception": false,
     "start_time": "2021-05-09T02:05:13.240857",
     "status": "completed"
    },
    "tags": []
   },
   "outputs": [],
   "source": [
    "car.describe().T"
   ]
  },
  {
   "cell_type": "markdown",
   "metadata": {
    "papermill": {
     "duration": 0.056651,
     "end_time": "2021-05-09T02:05:13.486342",
     "exception": false,
     "start_time": "2021-05-09T02:05:13.429691",
     "status": "completed"
    },
    "tags": []
   },
   "source": [
    "### Some important observations from the dataset is \n",
    "\n",
    "Mean Horse Power 104\n",
    "\n",
    "Highway mileage is 30.75\n",
    "\n",
    "Price is 13207.12 Dollars"
   ]
  },
  {
   "cell_type": "markdown",
   "metadata": {
    "papermill": {
     "duration": 0.056868,
     "end_time": "2021-05-09T02:05:13.599031",
     "exception": false,
     "start_time": "2021-05-09T02:05:13.542163",
     "status": "completed"
    },
    "tags": []
   },
   "source": [
    "# 3.Exploratory Data Analysis"
   ]
  },
  {
   "cell_type": "markdown",
   "metadata": {
    "papermill": {
     "duration": 0.056993,
     "end_time": "2021-05-09T02:05:13.713067",
     "exception": false,
     "start_time": "2021-05-09T02:05:13.656074",
     "status": "completed"
    },
    "tags": []
   },
   "source": [
    "## Make "
   ]
  },
  {
   "cell_type": "code",
   "execution_count": null,
   "metadata": {
    "_kg_hide-input": true,
    "execution": {
     "iopub.execute_input": "2021-05-09T02:05:13.835398Z",
     "iopub.status.busy": "2021-05-09T02:05:13.834677Z",
     "iopub.status.idle": "2021-05-09T02:05:14.128061Z",
     "shell.execute_reply": "2021-05-09T02:05:14.127576Z"
    },
    "papermill": {
     "duration": 0.359057,
     "end_time": "2021-05-09T02:05:14.128213",
     "exception": false,
     "start_time": "2021-05-09T02:05:13.769156",
     "status": "completed"
    },
    "tags": []
   },
   "outputs": [],
   "source": [
    "colors = ['b','g','r','c','y','magenta','purple','orange','#ff9999','#66b3ff','#99ff99']\n",
    "temp = car['make'].value_counts()\n",
    "temp2 = temp.head(10)\n",
    "if len(temp) > 10:\n",
    "   temp2['remaining {0} items'.format(len(temp)-10)] = sum(temp[10:])\n",
    "temp2.plot(kind='pie',autopct=\"%1.1f%%\",shadow=False,fontsize=15,pctdistance=0.9,colors=colors,wedgeprops={\"edgecolor\":\"0\",\"linewidth\":0.5,\"linestyle\":\"solid\",\"antialiased\":True},figsize=(15,10)) \n",
    "\n",
    "pass"
   ]
  },
  {
   "cell_type": "markdown",
   "metadata": {
    "papermill": {
     "duration": 0.057966,
     "end_time": "2021-05-09T02:05:14.244762",
     "exception": false,
     "start_time": "2021-05-09T02:05:14.186796",
     "status": "completed"
    },
    "tags": []
   },
   "source": [
    "We have more Japanese Cars in the Dataset followed by European.Toyota,Nissan,Mazda and Honda are all Japanese car makers.This is because after the oil crisis in late 1970s US customers prefered smaller and more fuel efficient cars made by the japanese car makers."
   ]
  },
  {
   "cell_type": "markdown",
   "metadata": {
    "papermill": {
     "duration": 0.05777,
     "end_time": "2021-05-09T02:05:14.360891",
     "exception": false,
     "start_time": "2021-05-09T02:05:14.303121",
     "status": "completed"
    },
    "tags": []
   },
   "source": [
    "## Fuel Type "
   ]
  },
  {
   "cell_type": "code",
   "execution_count": null,
   "metadata": {
    "_kg_hide-input": true,
    "execution": {
     "iopub.execute_input": "2021-05-09T02:05:14.567878Z",
     "iopub.status.busy": "2021-05-09T02:05:14.567131Z",
     "iopub.status.idle": "2021-05-09T02:05:14.981137Z",
     "shell.execute_reply": "2021-05-09T02:05:14.981667Z"
    },
    "papermill": {
     "duration": 0.562885,
     "end_time": "2021-05-09T02:05:14.981854",
     "exception": false,
     "start_time": "2021-05-09T02:05:14.418969",
     "status": "completed"
    },
    "tags": []
   },
   "outputs": [],
   "source": [
    "pd.crosstab(car.make,car['fuel-type'],margins=True).T.style.background_gradient(cmap='summer_r')\n",
    "\n",
    "f,ax=plt.subplots(1,2,figsize=(18,8))\n",
    "car['fuel-type'].value_counts().plot.pie(explode=[0,0.1],autopct='%1.1f%%',ax=ax[0],shadow=True)\n",
    "ax[0].set_title('Fuel Type')\n",
    "ax[0].set_ylabel('Count')\n",
    "sns.countplot('fuel-type',data=car,ax=ax[1],order=car['fuel-type'].value_counts().index)\n",
    "ax[1].set_title('Fuel Type')\n",
    "plt.show()"
   ]
  },
  {
   "cell_type": "markdown",
   "metadata": {
    "papermill": {
     "duration": 0.059944,
     "end_time": "2021-05-09T02:05:15.102734",
     "exception": false,
     "start_time": "2021-05-09T02:05:15.042790",
     "status": "completed"
    },
    "tags": []
   },
   "source": [
    "## Fuel Type"
   ]
  },
  {
   "cell_type": "code",
   "execution_count": null,
   "metadata": {
    "_kg_hide-input": true,
    "execution": {
     "iopub.execute_input": "2021-05-09T02:05:15.225971Z",
     "iopub.status.busy": "2021-05-09T02:05:15.225359Z",
     "iopub.status.idle": "2021-05-09T02:05:15.563859Z",
     "shell.execute_reply": "2021-05-09T02:05:15.564307Z"
    },
    "papermill": {
     "duration": 0.401745,
     "end_time": "2021-05-09T02:05:15.564487",
     "exception": false,
     "start_time": "2021-05-09T02:05:15.162742",
     "status": "completed"
    },
    "tags": []
   },
   "outputs": [],
   "source": [
    "pd.crosstab(car.make,car['fuel-type'],margins=True).T.style.background_gradient(cmap='summer_r')\n",
    "f,ax=plt.subplots(1,2,figsize=(18,8))\n",
    "car['fuel-type'].value_counts().plot.pie(explode=[0,0.1],autopct='%1.1f%%',ax=ax[0],shadow=True)\n",
    "ax[0].set_title('Fuel Type')\n",
    "ax[0].set_ylabel('Count')\n",
    "sns.countplot('fuel-type',data=car,ax=ax[1],order=car['fuel-type'].value_counts().index)\n",
    "ax[1].set_title('Fuel Type')\n",
    "plt.show()\n"
   ]
  },
  {
   "cell_type": "markdown",
   "metadata": {
    "papermill": {
     "duration": 0.061661,
     "end_time": "2021-05-09T02:05:15.687848",
     "exception": false,
     "start_time": "2021-05-09T02:05:15.626187",
     "status": "completed"
    },
    "tags": []
   },
   "source": [
    "We can see that 90% of the cars in the Data Set are Petrol.US is a Gasoline market unlike Europe and India which have more Share of Diesel Cars."
   ]
  },
  {
   "cell_type": "markdown",
   "metadata": {
    "papermill": {
     "duration": 0.061586,
     "end_time": "2021-05-09T02:05:15.811794",
     "exception": false,
     "start_time": "2021-05-09T02:05:15.750208",
     "status": "completed"
    },
    "tags": []
   },
   "source": [
    "### Cars of different make in the data set"
   ]
  },
  {
   "cell_type": "code",
   "execution_count": null,
   "metadata": {
    "_kg_hide-input": true,
    "execution": {
     "iopub.execute_input": "2021-05-09T02:05:15.939877Z",
     "iopub.status.busy": "2021-05-09T02:05:15.939165Z",
     "iopub.status.idle": "2021-05-09T02:05:15.945698Z",
     "shell.execute_reply": "2021-05-09T02:05:15.945072Z"
    },
    "papermill": {
     "duration": 0.07132,
     "end_time": "2021-05-09T02:05:15.945929",
     "exception": false,
     "start_time": "2021-05-09T02:05:15.874609",
     "status": "completed"
    },
    "tags": []
   },
   "outputs": [],
   "source": [
    "print('Car makers in the data set are',car['make'].unique())"
   ]
  },
  {
   "cell_type": "markdown",
   "metadata": {
    "papermill": {
     "duration": 0.062506,
     "end_time": "2021-05-09T02:05:16.071919",
     "exception": false,
     "start_time": "2021-05-09T02:05:16.009413",
     "status": "completed"
    },
    "tags": []
   },
   "source": [
    "List contains American,Japanese and European car brands."
   ]
  },
  {
   "cell_type": "markdown",
   "metadata": {
    "papermill": {
     "duration": 0.062218,
     "end_time": "2021-05-09T02:05:16.197179",
     "exception": false,
     "start_time": "2021-05-09T02:05:16.134961",
     "status": "completed"
    },
    "tags": []
   },
   "source": [
    "### Understanding the range of important features"
   ]
  },
  {
   "cell_type": "code",
   "execution_count": null,
   "metadata": {
    "_kg_hide-input": true,
    "execution": {
     "iopub.execute_input": "2021-05-09T02:05:16.347406Z",
     "iopub.status.busy": "2021-05-09T02:05:16.331596Z",
     "iopub.status.idle": "2021-05-09T02:05:17.734257Z",
     "shell.execute_reply": "2021-05-09T02:05:17.733652Z"
    },
    "papermill": {
     "duration": 1.474913,
     "end_time": "2021-05-09T02:05:17.734404",
     "exception": false,
     "start_time": "2021-05-09T02:05:16.259491",
     "status": "completed"
    },
    "tags": []
   },
   "outputs": [],
   "source": [
    "car[['engine-size','peak-rpm','curb-weight','horsepower','price','highway-mpg']].hist(figsize=(10,8),bins=50,color='b',linewidth='3',edgecolor='k')\n",
    "plt.tight_layout()\n",
    "plt.show()"
   ]
  },
  {
   "cell_type": "markdown",
   "metadata": {
    "papermill": {
     "duration": 0.064596,
     "end_time": "2021-05-09T02:05:17.863639",
     "exception": false,
     "start_time": "2021-05-09T02:05:17.799043",
     "status": "completed"
    },
    "tags": []
   },
   "source": [
    "**1.Curb weight:** Is the total weight of the vehicle without the weight of the passenger.It includes weight of coolants,oil and fuel.Defination of curb weight may vary based on the standard adopted by a country.In this data set the curb weight of most cars is in the range 2000-3100 lbs.\n",
    "\n",
    "**2.Engine Size:** It is the amount of air that can be sucked in by the engine.Generally it is measured in litres.For example an average car in India would have an engine capacity in the rane of 1-1.5 liter.\n",
    "\n",
    "**3.Highway-mpg:** It is the kilometer or miles that a car can travel with one liter of fuel on the highway.In this data set it seems to me that it is the amount of miles the car travels with one gallon of fuel.\n",
    "\n",
    "**4.Horse Power:** It is the measure of the power of the engine.One horse power is equivalent of the power of one horse.So 100 hp engine woulf be equivalent to the power of 100 horses.Now a days engine power is measure in Kilowatt which is the unit of power in SI System.\n",
    "\n",
    "**5.Peak rpm:** RPM (Reolutions per minute) is the measure of the speed of roation of Engine per minute.The peak rpm of the vehicles are generally in the range 5000-6500 rpm.\n",
    "\n",
    "**6.Price:** In US today the median price of the vehicle is around 35000$.This is a old data so it shows very low median car price."
   ]
  },
  {
   "cell_type": "markdown",
   "metadata": {
    "papermill": {
     "duration": 0.063723,
     "end_time": "2021-05-09T02:05:17.991326",
     "exception": false,
     "start_time": "2021-05-09T02:05:17.927603",
     "status": "completed"
    },
    "tags": []
   },
   "source": [
    "### Which Make of Car is More?"
   ]
  },
  {
   "cell_type": "code",
   "execution_count": null,
   "metadata": {
    "_kg_hide-input": true,
    "execution": {
     "iopub.execute_input": "2021-05-09T02:05:18.135162Z",
     "iopub.status.busy": "2021-05-09T02:05:18.134393Z",
     "iopub.status.idle": "2021-05-09T02:05:18.646592Z",
     "shell.execute_reply": "2021-05-09T02:05:18.647127Z"
    },
    "papermill": {
     "duration": 0.591328,
     "end_time": "2021-05-09T02:05:18.647317",
     "exception": false,
     "start_time": "2021-05-09T02:05:18.055989",
     "status": "completed"
    },
    "tags": []
   },
   "outputs": [],
   "source": [
    "plt.subplots(figsize=(10,6))\n",
    "ax=car['make'].value_counts().plot.bar(width=0.9,color=sns.color_palette('RdYlGn',20))\n",
    "for p in ax.patches:\n",
    "    ax.annotate(format(p.get_height()), (p.get_x()+0.15, p.get_height()+1))\n",
    "plt.xticks(rotation='vertical')\n",
    "plt.xlabel('Car Maker',fontsize=20)\n",
    "plt.ylabel('Number of Cars',fontsize=20)\n",
    "plt.title('Cars Count By Manufacturer',fontsize=30)\n",
    "ax.tick_params(labelsize=15)\n",
    "#plt.yticks(rotation='vertical')\n",
    "plt.show()\n",
    "plt.show()"
   ]
  },
  {
   "cell_type": "markdown",
   "metadata": {
    "papermill": {
     "duration": 0.065751,
     "end_time": "2021-05-09T02:05:18.780085",
     "exception": false,
     "start_time": "2021-05-09T02:05:18.714334",
     "status": "completed"
    },
    "tags": []
   },
   "source": [
    "It seems more Japanese cars are sold in the US.As expected Toyota sold more cars in US.In the 70's due to oil price rise Americans switched to small cars.Japanese car makers were good at making high quality small cars.This is the reason we have more cars been sold from Toyota,Mazda and Nissan."
   ]
  },
  {
   "cell_type": "markdown",
   "metadata": {
    "papermill": {
     "duration": 0.066206,
     "end_time": "2021-05-09T02:05:18.913750",
     "exception": false,
     "start_time": "2021-05-09T02:05:18.847544",
     "status": "completed"
    },
    "tags": []
   },
   "source": [
    "### Cars by Body Type"
   ]
  },
  {
   "cell_type": "code",
   "execution_count": null,
   "metadata": {
    "_kg_hide-input": true,
    "execution": {
     "iopub.execute_input": "2021-05-09T02:05:19.048131Z",
     "iopub.status.busy": "2021-05-09T02:05:19.047478Z",
     "iopub.status.idle": "2021-05-09T02:05:19.054146Z",
     "shell.execute_reply": "2021-05-09T02:05:19.054990Z"
    },
    "papermill": {
     "duration": 0.075772,
     "end_time": "2021-05-09T02:05:19.055181",
     "exception": false,
     "start_time": "2021-05-09T02:05:18.979409",
     "status": "completed"
    },
    "tags": []
   },
   "outputs": [],
   "source": [
    "print('Different types of cars',car['body-style'].unique())"
   ]
  },
  {
   "cell_type": "code",
   "execution_count": null,
   "metadata": {
    "_kg_hide-input": true,
    "execution": {
     "iopub.execute_input": "2021-05-09T02:05:19.192422Z",
     "iopub.status.busy": "2021-05-09T02:05:19.191469Z",
     "iopub.status.idle": "2021-05-09T02:05:19.431820Z",
     "shell.execute_reply": "2021-05-09T02:05:19.432769Z"
    },
    "papermill": {
     "duration": 0.311583,
     "end_time": "2021-05-09T02:05:19.433007",
     "exception": false,
     "start_time": "2021-05-09T02:05:19.121424",
     "status": "completed"
    },
    "tags": []
   },
   "outputs": [],
   "source": [
    "\n",
    "fig = plt.figure(figsize=(15, 10))\n",
    "cars_type=car.groupby(['body-style']).count()['make']\n",
    "ax=cars_type.sort_values(ascending=False).plot.bar(edgecolor='k',linewidth=2)\n",
    "for p in ax.patches:\n",
    "    ax.annotate(format(p.get_height()), (p.get_x()+0.15, p.get_height()+1),fontsize=11)\n",
    "plt.xticks(rotation='vertical')\n",
    "plt.xlabel('Body Type',fontsize=20)\n",
    "plt.ylabel('Number of Cars',fontsize=20)\n",
    "plt.title('Count of Cars by Body Type',fontsize=30)\n",
    "ax.tick_params(labelsize=15)\n",
    "#plt.yticks(rotation='vertical')\n",
    "plt.show()"
   ]
  },
  {
   "cell_type": "markdown",
   "metadata": {
    "papermill": {
     "duration": 0.067115,
     "end_time": "2021-05-09T02:05:19.569745",
     "exception": false,
     "start_time": "2021-05-09T02:05:19.502630",
     "status": "completed"
    },
    "tags": []
   },
   "source": [
    "### Car Body Type Based on Manufacturer"
   ]
  },
  {
   "cell_type": "code",
   "execution_count": null,
   "metadata": {
    "_kg_hide-input": true,
    "execution": {
     "iopub.execute_input": "2021-05-09T02:05:19.714109Z",
     "iopub.status.busy": "2021-05-09T02:05:19.713081Z",
     "iopub.status.idle": "2021-05-09T02:05:20.236983Z",
     "shell.execute_reply": "2021-05-09T02:05:20.237434Z"
    },
    "papermill": {
     "duration": 0.600609,
     "end_time": "2021-05-09T02:05:20.237633",
     "exception": false,
     "start_time": "2021-05-09T02:05:19.637024",
     "status": "completed"
    },
    "tags": []
   },
   "outputs": [],
   "source": [
    "from matplotlib.pyplot import plot\n",
    "plt.rcParams['figure.figsize']=(15,10)\n",
    "#fig = plt.figure(figsize=(25, 25))\n",
    "a=car.groupby(['body-style','make']).count().reset_index();\n",
    "a=a[['make','body-style','symboling']]\n",
    "a.columns=['make','style','count']\n",
    "a=a.pivot('make','style','count')\n",
    "a.dropna(thresh=3).plot.bar(width=0.85);\n",
    "#plot.bar()\n",
    "plt.ioff()\n",
    "plt.show()"
   ]
  },
  {
   "cell_type": "markdown",
   "metadata": {
    "papermill": {
     "duration": 0.072942,
     "end_time": "2021-05-09T02:05:20.380923",
     "exception": false,
     "start_time": "2021-05-09T02:05:20.307981",
     "status": "completed"
    },
    "tags": []
   },
   "source": [
    "### Getting details of Engine type,Number of doors,type of fuel and body style"
   ]
  },
  {
   "cell_type": "code",
   "execution_count": null,
   "metadata": {
    "_kg_hide-input": true,
    "execution": {
     "iopub.execute_input": "2021-05-09T02:05:20.546632Z",
     "iopub.status.busy": "2021-05-09T02:05:20.545940Z",
     "iopub.status.idle": "2021-05-09T02:05:21.189550Z",
     "shell.execute_reply": "2021-05-09T02:05:21.190093Z"
    },
    "papermill": {
     "duration": 0.740331,
     "end_time": "2021-05-09T02:05:21.190270",
     "exception": false,
     "start_time": "2021-05-09T02:05:20.449939",
     "status": "completed"
    },
    "tags": []
   },
   "outputs": [],
   "source": [
    "plt.figure(1)\n",
    "plt.subplot(221)\n",
    "ax1=car['engine-type'].value_counts(normalize=True).plot(figsize=(15,10),kind='bar',color='orange',edgecolor='k',linewidth=2)\n",
    "plt.title(\"Engine Type \")\n",
    "plt.ylabel('Number of Engine Type',fontsize=15)\n",
    "ax1.tick_params(labelsize=15)\n",
    "plt.xlabel('engine-type',fontsize=15);\n",
    "\n",
    "\n",
    "plt.subplot(222)\n",
    "ax2=car['num-of-doors'].value_counts(normalize=True).plot(figsize=(15,10),kind='bar',color='purple',edgecolor='k',linewidth=2)\n",
    "plt.title(\"Number of Door\")\n",
    "plt.ylabel('Number of Doors',fontsize=15)\n",
    "ax2.tick_params(labelsize=15)\n",
    "plt.xlabel('num-of-doors',fontsize=15);\n",
    "\n",
    "plt.subplot(223)\n",
    "ax3=car['fuel-type'].value_counts(normalize= True).plot(figsize=(15,10),kind='bar',color='green',edgecolor='k',linewidth=2)\n",
    "plt.title(\"Fuel Type\")\n",
    "plt.ylabel('Number of vehicles',fontsize=15)\n",
    "plt.xlabel('fuel-type',fontsize=15)\n",
    "ax2.tick_params(labelsize=15)\n",
    "\n",
    "plt.subplot(224)\n",
    "ax4=car['body-style'].value_counts(normalize=True).plot(figsize=(15,10),kind='bar',color='red',edgecolor='k',linewidth=2)\n",
    "plt.title(\"Body Style\")\n",
    "plt.ylabel('Number of vehicles',fontsize=15)\n",
    "plt.xlabel('body-style',fontsize=15);\n",
    "plt.tight_layout()\n",
    "plt.show()"
   ]
  },
  {
   "cell_type": "markdown",
   "metadata": {
    "papermill": {
     "duration": 0.070638,
     "end_time": "2021-05-09T02:05:21.338370",
     "exception": false,
     "start_time": "2021-05-09T02:05:21.267732",
     "status": "completed"
    },
    "tags": []
   },
   "source": [
    "1.DHC (Direct overhead cam) tyoe of engines are more in the data.\n",
    "\n",
    "2.Most cars sold have 4 doors\n",
    "\n",
    "3.Petrol(Gas) cars are more popular in America\n",
    "\n",
    "4.Sedan Cars are most popular in America"
   ]
  },
  {
   "cell_type": "markdown",
   "metadata": {
    "papermill": {
     "duration": 0.070661,
     "end_time": "2021-05-09T02:05:21.480205",
     "exception": false,
     "start_time": "2021-05-09T02:05:21.409544",
     "status": "completed"
    },
    "tags": []
   },
   "source": [
    "### Fuel Economy by Car Makers"
   ]
  },
  {
   "cell_type": "code",
   "execution_count": null,
   "metadata": {
    "_kg_hide-input": true,
    "execution": {
     "iopub.execute_input": "2021-05-09T02:05:21.644022Z",
     "iopub.status.busy": "2021-05-09T02:05:21.642880Z",
     "iopub.status.idle": "2021-05-09T02:05:21.993458Z",
     "shell.execute_reply": "2021-05-09T02:05:21.993940Z"
    },
    "papermill": {
     "duration": 0.443059,
     "end_time": "2021-05-09T02:05:21.994124",
     "exception": false,
     "start_time": "2021-05-09T02:05:21.551065",
     "status": "completed"
    },
    "tags": []
   },
   "outputs": [],
   "source": [
    "fig = plt.figure(figsize=(15, 10))\n",
    "mileage=car.groupby(['make']).mean()\n",
    "mileage['avg-mpg']=((mileage['city-mpg']+mileage['highway-mpg'])/2)\n",
    "ax=mileage['avg-mpg'].sort_values(ascending=False).plot.bar(edgecolor='k',linewidth=2)\n",
    "plt.xticks(rotation='vertical')\n",
    "plt.xlabel('Car Maker',fontsize=20)\n",
    "plt.ylabel('Number of Cars',fontsize=20)\n",
    "plt.title('Fuel Economy of Car Makers',fontsize=30)\n",
    "ax.tick_params(labelsize=20)\n",
    "#plt.yticks(rotation='vertical')\n",
    "plt.show()\n",
    "plt.show()"
   ]
  },
  {
   "cell_type": "markdown",
   "metadata": {
    "papermill": {
     "duration": 0.07353,
     "end_time": "2021-05-09T02:05:22.142821",
     "exception": false,
     "start_time": "2021-05-09T02:05:22.069291",
     "status": "completed"
    },
    "tags": []
   },
   "source": [
    "Chevy which is a brand of General motors had the highest milage followed by the Japanese car makers.European car makers except Volkswagen sell Luxary cars.So the Mileage of European car makers are lower.Cars with lower engine capacity generally have higher fuel economy."
   ]
  },
  {
   "cell_type": "markdown",
   "metadata": {
    "papermill": {
     "duration": 0.073366,
     "end_time": "2021-05-09T02:05:22.290058",
     "exception": false,
     "start_time": "2021-05-09T02:05:22.216692",
     "status": "completed"
    },
    "tags": []
   },
   "source": [
    "### Relation between Horse Power and Number of Cylinders"
   ]
  },
  {
   "cell_type": "code",
   "execution_count": null,
   "metadata": {
    "_kg_hide-input": true,
    "execution": {
     "iopub.execute_input": "2021-05-09T02:05:22.445255Z",
     "iopub.status.busy": "2021-05-09T02:05:22.444166Z",
     "iopub.status.idle": "2021-05-09T02:05:22.878132Z",
     "shell.execute_reply": "2021-05-09T02:05:22.877484Z"
    },
    "papermill": {
     "duration": 0.511995,
     "end_time": "2021-05-09T02:05:22.878266",
     "exception": false,
     "start_time": "2021-05-09T02:05:22.366271",
     "status": "completed"
    },
    "tags": []
   },
   "outputs": [],
   "source": [
    "#plt.figure(figsize=(15, 12))\n",
    "#sns.set(rc={'figure.figsize':(15,10)})\n",
    "sns.factorplot(data=car, x=\"num-of-cylinders\", y=\"horsepower\",height=8.27, aspect=11.7/8.27)\n",
    "plt.show()\n"
   ]
  },
  {
   "cell_type": "markdown",
   "metadata": {
    "papermill": {
     "duration": 0.07609,
     "end_time": "2021-05-09T02:05:23.031245",
     "exception": false,
     "start_time": "2021-05-09T02:05:22.955155",
     "status": "completed"
    },
    "tags": []
   },
   "source": [
    "We can see that the range of power output from twelve cylinder engine is very high.It seems more the engines with higher number of cylinders can give a bigger range of power output"
   ]
  },
  {
   "cell_type": "markdown",
   "metadata": {
    "papermill": {
     "duration": 0.07469,
     "end_time": "2021-05-09T02:05:23.182163",
     "exception": false,
     "start_time": "2021-05-09T02:05:23.107473",
     "status": "completed"
    },
    "tags": []
   },
   "source": [
    "### Car Price Based on Make"
   ]
  },
  {
   "cell_type": "code",
   "execution_count": null,
   "metadata": {
    "_kg_hide-input": true,
    "execution": {
     "iopub.execute_input": "2021-05-09T02:05:23.351276Z",
     "iopub.status.busy": "2021-05-09T02:05:23.350284Z",
     "iopub.status.idle": "2021-05-09T02:05:24.063192Z",
     "shell.execute_reply": "2021-05-09T02:05:24.062697Z"
    },
    "papermill": {
     "duration": 0.803938,
     "end_time": "2021-05-09T02:05:24.063332",
     "exception": false,
     "start_time": "2021-05-09T02:05:23.259394",
     "status": "completed"
    },
    "tags": []
   },
   "outputs": [],
   "source": [
    "\n",
    "plt.rcParams['figure.figsize']=(23,10)\n",
    "ax = sns.boxplot(x=\"make\", y=\"price\", data=car,width=0.8,linewidth=5)\n",
    "ax.set_xlabel('Make of Car',fontsize=30)\n",
    "ax.set_ylabel('Price in $',fontsize=30)\n",
    "plt.title('Price of Car Based on Make',fontsize=40)\n",
    "ax.tick_params(axis='x',labelsize=20,rotation=90)"
   ]
  },
  {
   "cell_type": "markdown",
   "metadata": {
    "papermill": {
     "duration": 0.079127,
     "end_time": "2021-05-09T02:05:24.222032",
     "exception": false,
     "start_time": "2021-05-09T02:05:24.142905",
     "status": "completed"
    },
    "tags": []
   },
   "source": [
    "We can see that Mercedes Benz , BMW and Prosche sell the expensive cars in America.\n",
    "\n",
    "From the heat map we can make out that Width,Curb weight,Engine weight,Horse power,Highway-mpg have very high correlation to the price of the car."
   ]
  },
  {
   "cell_type": "markdown",
   "metadata": {
    "papermill": {
     "duration": 0.079021,
     "end_time": "2021-05-09T02:05:24.379687",
     "exception": false,
     "start_time": "2021-05-09T02:05:24.300666",
     "status": "completed"
    },
    "tags": []
   },
   "source": [
    "### Price Based on type of Vehicle "
   ]
  },
  {
   "cell_type": "code",
   "execution_count": null,
   "metadata": {
    "_kg_hide-input": true,
    "execution": {
     "iopub.execute_input": "2021-05-09T02:05:24.545953Z",
     "iopub.status.busy": "2021-05-09T02:05:24.545172Z",
     "iopub.status.idle": "2021-05-09T02:05:25.265942Z",
     "shell.execute_reply": "2021-05-09T02:05:25.266492Z"
    },
    "papermill": {
     "duration": 0.808446,
     "end_time": "2021-05-09T02:05:25.266692",
     "exception": false,
     "start_time": "2021-05-09T02:05:24.458246",
     "status": "completed"
    },
    "tags": []
   },
   "outputs": [],
   "source": [
    "sns.factorplot(data=car, y=\"price\", x=\"body-style\" , hue=\"fuel-type\" ,kind=\"point\",height=8.27, aspect=11.7/8.27)\n",
    "plt.xlabel('Type of Engine',fontsize=20)\n",
    "plt.ylabel('Price in $',fontsize=20)\n",
    "plt.title('Price Vs Engine Type',fontsize=20)\n",
    "plt.tick_params(axis='x',labelsize=10,rotation=90)"
   ]
  },
  {
   "cell_type": "markdown",
   "metadata": {
    "papermill": {
     "duration": 0.081662,
     "end_time": "2021-05-09T02:05:25.430163",
     "exception": false,
     "start_time": "2021-05-09T02:05:25.348501",
     "status": "completed"
    },
    "tags": []
   },
   "source": [
    "So we have got the price of the vehicles based on the type.Hardtop and convertible vehicles are more expensive in the dataset."
   ]
  },
  {
   "cell_type": "markdown",
   "metadata": {
    "papermill": {
     "duration": 0.080316,
     "end_time": "2021-05-09T02:05:25.593264",
     "exception": false,
     "start_time": "2021-05-09T02:05:25.512948",
     "status": "completed"
    },
    "tags": []
   },
   "source": [
    "### Car Price Based on Drive "
   ]
  },
  {
   "cell_type": "code",
   "execution_count": null,
   "metadata": {
    "_kg_hide-input": true,
    "execution": {
     "iopub.execute_input": "2021-05-09T02:05:25.760785Z",
     "iopub.status.busy": "2021-05-09T02:05:25.760074Z",
     "iopub.status.idle": "2021-05-09T02:05:26.040739Z",
     "shell.execute_reply": "2021-05-09T02:05:26.039881Z"
    },
    "papermill": {
     "duration": 0.36653,
     "end_time": "2021-05-09T02:05:26.040958",
     "exception": false,
     "start_time": "2021-05-09T02:05:25.674428",
     "status": "completed"
    },
    "tags": []
   },
   "outputs": [],
   "source": [
    "plt.rcParams['figure.figsize']=(23,10)\n",
    "ax=sns.boxplot(x='drive-wheels',y='price',data=car,width=0.8,linewidth=5)\n",
    "ax.set_xlabel('Make of Car',fontsize=30)\n",
    "ax.set_ylabel('Price in $',fontsize=30)\n",
    "plt.title('Price of Car Based on Make',fontsize=40)\n",
    "ax.tick_params(axis='x',labelsize=20,rotation=90)"
   ]
  },
  {
   "cell_type": "markdown",
   "metadata": {
    "papermill": {
     "duration": 0.082149,
     "end_time": "2021-05-09T02:05:26.208483",
     "exception": false,
     "start_time": "2021-05-09T02:05:26.126334",
     "status": "completed"
    },
    "tags": []
   },
   "source": [
    "Rear wheel drive are more expensive with a median price of $17000.Generally four wheel drive are more expensive.This is bit surprising."
   ]
  },
  {
   "cell_type": "markdown",
   "metadata": {
    "papermill": {
     "duration": 0.082604,
     "end_time": "2021-05-09T02:05:26.374259",
     "exception": false,
     "start_time": "2021-05-09T02:05:26.291655",
     "status": "completed"
    },
    "tags": []
   },
   "source": [
    "### Heat Map"
   ]
  },
  {
   "cell_type": "code",
   "execution_count": null,
   "metadata": {
    "_kg_hide-input": true,
    "execution": {
     "iopub.execute_input": "2021-05-09T02:05:26.547422Z",
     "iopub.status.busy": "2021-05-09T02:05:26.546805Z",
     "iopub.status.idle": "2021-05-09T02:05:28.935452Z",
     "shell.execute_reply": "2021-05-09T02:05:28.935963Z"
    },
    "papermill": {
     "duration": 2.478468,
     "end_time": "2021-05-09T02:05:28.936142",
     "exception": false,
     "start_time": "2021-05-09T02:05:26.457674",
     "status": "completed"
    },
    "tags": []
   },
   "outputs": [],
   "source": [
    "import seaborn as sns\n",
    "plt.figure(figsize=(20,10))\n",
    "sns.heatmap(car.corr(),annot=True,cmap='summer');"
   ]
  },
  {
   "cell_type": "markdown",
   "metadata": {
    "papermill": {
     "duration": 0.09173,
     "end_time": "2021-05-09T02:05:29.118674",
     "exception": false,
     "start_time": "2021-05-09T02:05:29.026944",
     "status": "completed"
    },
    "tags": []
   },
   "source": [
    "From the heat map we can see that the features Width,Curb Weight,Engine Size and Horsepower have the highest correlation with the Price.We can see these four features for our Predicting the price of the car."
   ]
  },
  {
   "cell_type": "markdown",
   "metadata": {
    "papermill": {
     "duration": 0.111755,
     "end_time": "2021-05-09T02:05:29.329407",
     "exception": false,
     "start_time": "2021-05-09T02:05:29.217652",
     "status": "completed"
    },
    "tags": []
   },
   "source": [
    "### Pair Plot"
   ]
  },
  {
   "cell_type": "code",
   "execution_count": null,
   "metadata": {
    "_kg_hide-input": true,
    "execution": {
     "iopub.execute_input": "2021-05-09T02:05:29.674801Z",
     "iopub.status.busy": "2021-05-09T02:05:29.602343Z",
     "iopub.status.idle": "2021-05-09T02:05:38.850294Z",
     "shell.execute_reply": "2021-05-09T02:05:38.850819Z"
    },
    "papermill": {
     "duration": 9.42286,
     "end_time": "2021-05-09T02:05:38.850990",
     "exception": false,
     "start_time": "2021-05-09T02:05:29.428130",
     "status": "completed"
    },
    "tags": []
   },
   "outputs": [],
   "source": [
    "ax = sns.pairplot(car[[\"width\", \"curb-weight\",\"engine-size\",\"horsepower\",\"highway-mpg\",\"fuel-type\",\"price\",]], hue=\"fuel-type\",palette='dark') #diag_kind=\"hist\""
   ]
  },
  {
   "cell_type": "markdown",
   "metadata": {
    "papermill": {
     "duration": 0.102109,
     "end_time": "2021-05-09T02:05:39.055131",
     "exception": false,
     "start_time": "2021-05-09T02:05:38.953022",
     "status": "completed"
    },
    "tags": []
   },
   "source": [
    "1.Vehicle with high price have low mileage.This because high priced vehicles go into luxary segment which are meant for high performance and running cost is not very important in this segment.\n",
    "\n",
    "2.As the engine power(horse power) increases the price of the vehicle increases.More horse power also means bigger engine size\n",
    "\n",
    "3.As the engine size increases the price of the vehicle increases.Weight of the engine increases with the increase in engine size.\n",
    "\n",
    "4.High curb weight increases price of the vehicle and decreases the mileage of the vehicle.\n",
    "\n",
    "5.Width has very good positive correlation to the price of the vehicle."
   ]
  },
  {
   "cell_type": "markdown",
   "metadata": {
    "papermill": {
     "duration": 0.100852,
     "end_time": "2021-05-09T02:05:39.258653",
     "exception": false,
     "start_time": "2021-05-09T02:05:39.157801",
     "status": "completed"
    },
    "tags": []
   },
   "source": [
    "### Bubble Plot "
   ]
  },
  {
   "cell_type": "code",
   "execution_count": null,
   "metadata": {
    "_kg_hide-input": true,
    "execution": {
     "iopub.execute_input": "2021-05-09T02:05:39.466872Z",
     "iopub.status.busy": "2021-05-09T02:05:39.465718Z",
     "iopub.status.idle": "2021-05-09T02:05:39.469880Z",
     "shell.execute_reply": "2021-05-09T02:05:39.469235Z"
    },
    "papermill": {
     "duration": 0.110616,
     "end_time": "2021-05-09T02:05:39.470032",
     "exception": false,
     "start_time": "2021-05-09T02:05:39.359416",
     "status": "completed"
    },
    "tags": []
   },
   "outputs": [],
   "source": [
    "car.columns"
   ]
  },
  {
   "cell_type": "code",
   "execution_count": null,
   "metadata": {
    "_kg_hide-input": true,
    "execution": {
     "iopub.execute_input": "2021-05-09T02:05:39.678639Z",
     "iopub.status.busy": "2021-05-09T02:05:39.677715Z",
     "iopub.status.idle": "2021-05-09T02:05:39.680422Z",
     "shell.execute_reply": "2021-05-09T02:05:39.679924Z"
    },
    "papermill": {
     "duration": 0.108964,
     "end_time": "2021-05-09T02:05:39.680580",
     "exception": false,
     "start_time": "2021-05-09T02:05:39.571616",
     "status": "completed"
    },
    "tags": []
   },
   "outputs": [],
   "source": [
    "car1 = pd.DataFrame(car)"
   ]
  },
  {
   "cell_type": "code",
   "execution_count": null,
   "metadata": {
    "_kg_hide-input": true,
    "execution": {
     "iopub.execute_input": "2021-05-09T02:05:39.894565Z",
     "iopub.status.busy": "2021-05-09T02:05:39.893693Z",
     "iopub.status.idle": "2021-05-09T02:05:41.128831Z",
     "shell.execute_reply": "2021-05-09T02:05:41.128266Z"
    },
    "papermill": {
     "duration": 1.345353,
     "end_time": "2021-05-09T02:05:41.128971",
     "exception": false,
     "start_time": "2021-05-09T02:05:39.783618",
     "status": "completed"
    },
    "tags": []
   },
   "outputs": [],
   "source": [
    "import plotly.offline as pyo \n",
    "import plotly.graph_objs as go \n",
    "import pandas as pd \n",
    "from plotly.offline import iplot\n",
    "\n",
    "data = [go.Scatter(x=car1['horsepower'],\n",
    "                  y=car1['city-mpg'],\n",
    "                  text=car1['make'],\n",
    "                  mode='markers',\n",
    "                  marker=dict(size=0.1*car1['engine-size']))]\n",
    "\n",
    "layout =go.Layout(title='Bubble Chart Mileage Vs Power-Bubble = Engine Size',\n",
    "                 xaxis=dict(title='Horse Power'),\n",
    "                 yaxis=dict(title='City Milage'),\n",
    "                 hovermode='closest')\n",
    "fig=go.Figure(data=data,layout=layout)\n",
    "pyo.iplot(fig)"
   ]
  },
  {
   "cell_type": "markdown",
   "metadata": {
    "papermill": {
     "duration": 0.102764,
     "end_time": "2021-05-09T02:05:41.336575",
     "exception": false,
     "start_time": "2021-05-09T02:05:41.233811",
     "status": "completed"
    },
    "tags": []
   },
   "source": [
    "The cars with higher engine size have higher horse power but lower mileage."
   ]
  },
  {
   "cell_type": "markdown",
   "metadata": {
    "papermill": {
     "duration": 0.103173,
     "end_time": "2021-05-09T02:05:41.544377",
     "exception": false,
     "start_time": "2021-05-09T02:05:41.441204",
     "status": "completed"
    },
    "tags": []
   },
   "source": [
    "# 4.Building Machine Learning Model"
   ]
  },
  {
   "cell_type": "markdown",
   "metadata": {
    "papermill": {
     "duration": 0.10384,
     "end_time": "2021-05-09T02:05:41.751637",
     "exception": false,
     "start_time": "2021-05-09T02:05:41.647797",
     "status": "completed"
    },
    "tags": []
   },
   "source": [
    "### Predicting the price of Cars"
   ]
  },
  {
   "cell_type": "code",
   "execution_count": null,
   "metadata": {
    "_kg_hide-input": true,
    "execution": {
     "iopub.execute_input": "2021-05-09T02:05:41.963485Z",
     "iopub.status.busy": "2021-05-09T02:05:41.962868Z",
     "iopub.status.idle": "2021-05-09T02:05:42.345755Z",
     "shell.execute_reply": "2021-05-09T02:05:42.345044Z"
    },
    "papermill": {
     "duration": 0.490392,
     "end_time": "2021-05-09T02:05:42.345900",
     "exception": false,
     "start_time": "2021-05-09T02:05:41.855508",
     "status": "completed"
    },
    "tags": []
   },
   "outputs": [],
   "source": [
    "from sklearn.linear_model import LogisticRegression\n",
    "from sklearn.neighbors import KNeighborsClassifier\n",
    "from sklearn.cluster import KMeans\n",
    "from sklearn import svm\n",
    "from sklearn.linear_model import LinearRegression\n",
    "from sklearn.tree import DecisionTreeRegressor #\n",
    "from sklearn.ensemble import RandomForestRegressor ##\n",
    "\n",
    "from sklearn.model_selection import train_test_split # for spliting the data into training and test set\n",
    "from sklearn import metrics # for validating the accuracy of the model"
   ]
  },
  {
   "cell_type": "markdown",
   "metadata": {
    "papermill": {
     "duration": 0.102868,
     "end_time": "2021-05-09T02:05:42.551560",
     "exception": false,
     "start_time": "2021-05-09T02:05:42.448692",
     "status": "completed"
    },
    "tags": []
   },
   "source": [
    "### Matrix of Features"
   ]
  },
  {
   "cell_type": "code",
   "execution_count": null,
   "metadata": {
    "_kg_hide-input": true,
    "execution": {
     "iopub.execute_input": "2021-05-09T02:05:42.764385Z",
     "iopub.status.busy": "2021-05-09T02:05:42.763739Z",
     "iopub.status.idle": "2021-05-09T02:05:42.769258Z",
     "shell.execute_reply": "2021-05-09T02:05:42.769874Z"
    },
    "papermill": {
     "duration": 0.113558,
     "end_time": "2021-05-09T02:05:42.770062",
     "exception": false,
     "start_time": "2021-05-09T02:05:42.656504",
     "status": "completed"
    },
    "tags": []
   },
   "outputs": [],
   "source": [
    "car.columns"
   ]
  },
  {
   "cell_type": "code",
   "execution_count": null,
   "metadata": {
    "_kg_hide-input": true,
    "execution": {
     "iopub.execute_input": "2021-05-09T02:05:42.982680Z",
     "iopub.status.busy": "2021-05-09T02:05:42.982007Z",
     "iopub.status.idle": "2021-05-09T02:05:42.987827Z",
     "shell.execute_reply": "2021-05-09T02:05:42.988334Z"
    },
    "papermill": {
     "duration": 0.114622,
     "end_time": "2021-05-09T02:05:42.988501",
     "exception": false,
     "start_time": "2021-05-09T02:05:42.873879",
     "status": "completed"
    },
    "tags": []
   },
   "outputs": [],
   "source": [
    "\n",
    "X=car.iloc[:,[11,13,16,21]].values\n",
    "y=car.iloc[:,-1].values\n",
    "#X"
   ]
  },
  {
   "cell_type": "markdown",
   "metadata": {
    "papermill": {
     "duration": 0.103762,
     "end_time": "2021-05-09T02:05:43.197120",
     "exception": false,
     "start_time": "2021-05-09T02:05:43.093358",
     "status": "completed"
    },
    "tags": []
   },
   "source": [
    "We have considered Width,Curb Weight,Engine Size and Horsepower for car Price prediction."
   ]
  },
  {
   "cell_type": "markdown",
   "metadata": {
    "papermill": {
     "duration": 0.105064,
     "end_time": "2021-05-09T02:05:43.407821",
     "exception": false,
     "start_time": "2021-05-09T02:05:43.302757",
     "status": "completed"
    },
    "tags": []
   },
   "source": [
    "### Feature Scaling "
   ]
  },
  {
   "cell_type": "code",
   "execution_count": null,
   "metadata": {
    "_kg_hide-input": true,
    "execution": {
     "iopub.execute_input": "2021-05-09T02:05:43.620034Z",
     "iopub.status.busy": "2021-05-09T02:05:43.619366Z",
     "iopub.status.idle": "2021-05-09T02:05:43.624427Z",
     "shell.execute_reply": "2021-05-09T02:05:43.624969Z"
    },
    "papermill": {
     "duration": 0.1131,
     "end_time": "2021-05-09T02:05:43.625136",
     "exception": false,
     "start_time": "2021-05-09T02:05:43.512036",
     "status": "completed"
    },
    "tags": []
   },
   "outputs": [],
   "source": [
    "from sklearn.preprocessing import StandardScaler \n",
    "scaler=StandardScaler()\n",
    "X_scaled=scaler.fit_transform(X)"
   ]
  },
  {
   "cell_type": "markdown",
   "metadata": {
    "papermill": {
     "duration": 0.113512,
     "end_time": "2021-05-09T02:05:43.842608",
     "exception": false,
     "start_time": "2021-05-09T02:05:43.729096",
     "status": "completed"
    },
    "tags": []
   },
   "source": [
    "### Test Train Split"
   ]
  },
  {
   "cell_type": "code",
   "execution_count": null,
   "metadata": {
    "_kg_hide-input": true,
    "execution": {
     "iopub.execute_input": "2021-05-09T02:05:44.059128Z",
     "iopub.status.busy": "2021-05-09T02:05:44.058413Z",
     "iopub.status.idle": "2021-05-09T02:05:44.068269Z",
     "shell.execute_reply": "2021-05-09T02:05:44.068808Z"
    },
    "papermill": {
     "duration": 0.122156,
     "end_time": "2021-05-09T02:05:44.069003",
     "exception": false,
     "start_time": "2021-05-09T02:05:43.946847",
     "status": "completed"
    },
    "tags": []
   },
   "outputs": [],
   "source": [
    "from sklearn.model_selection import train_test_split\n",
    "X_train, X_test, y_train, y_test = train_test_split(X,y,test_size=0.1,random_state= 10)\n",
    "\n",
    "print('Training Set:',len(X_train))\n",
    "print('Test Set:',len(X_test))\n",
    "print('Training labels:',len(y_train))\n",
    "print('Test labels:',len(y_test))\n"
   ]
  },
  {
   "cell_type": "markdown",
   "metadata": {
    "papermill": {
     "duration": 0.107237,
     "end_time": "2021-05-09T02:05:44.315137",
     "exception": false,
     "start_time": "2021-05-09T02:05:44.207900",
     "status": "completed"
    },
    "tags": []
   },
   "source": [
    "## Linear Regression"
   ]
  },
  {
   "cell_type": "code",
   "execution_count": null,
   "metadata": {
    "_kg_hide-input": true,
    "execution": {
     "iopub.execute_input": "2021-05-09T02:05:44.531192Z",
     "iopub.status.busy": "2021-05-09T02:05:44.530216Z",
     "iopub.status.idle": "2021-05-09T02:05:44.549193Z",
     "shell.execute_reply": "2021-05-09T02:05:44.549698Z"
    },
    "papermill": {
     "duration": 0.128043,
     "end_time": "2021-05-09T02:05:44.549881",
     "exception": false,
     "start_time": "2021-05-09T02:05:44.421838",
     "status": "completed"
    },
    "tags": []
   },
   "outputs": [],
   "source": [
    "from sklearn.linear_model import LinearRegression\n",
    "model = LinearRegression()\n",
    "model.fit(X_train,y_train)\n",
    "#prediction1 = model.predict(X_test)\n",
    "#prediction1\n",
    "\n",
    "#print('Accuracy for Linear Regression is ',metrics.accuracy_score(prediction1,y_test))"
   ]
  },
  {
   "cell_type": "code",
   "execution_count": null,
   "metadata": {},
   "outputs": [],
   "source": [
    "## Decision Tree "
   ]
  },
  {
   "cell_type": "code",
   "execution_count": null,
   "metadata": {},
   "outputs": [],
   "source": [
    "## Random Forest "
   ]
  },
  {
   "cell_type": "markdown",
   "metadata": {
    "papermill": {
     "duration": 0.107907,
     "end_time": "2021-05-09T02:05:44.762271",
     "exception": false,
     "start_time": "2021-05-09T02:05:44.654364",
     "status": "completed"
    },
    "tags": []
   },
   "source": [
    "# 5.Model Evaluation"
   ]
  },
  {
   "cell_type": "markdown",
   "metadata": {
    "papermill": {
     "duration": 0.104888,
     "end_time": "2021-05-09T02:05:44.973768",
     "exception": false,
     "start_time": "2021-05-09T02:05:44.868880",
     "status": "completed"
    },
    "tags": []
   },
   "source": [
    "### Mean Square Error,R Squared and Mean Absolute Error "
   ]
  },
  {
   "cell_type": "code",
   "execution_count": null,
   "metadata": {
    "_kg_hide-input": true,
    "execution": {
     "iopub.execute_input": "2021-05-09T02:05:45.194217Z",
     "iopub.status.busy": "2021-05-09T02:05:45.193091Z",
     "iopub.status.idle": "2021-05-09T02:05:45.197688Z",
     "shell.execute_reply": "2021-05-09T02:05:45.198486Z"
    },
    "papermill": {
     "duration": 0.119017,
     "end_time": "2021-05-09T02:05:45.198743",
     "exception": false,
     "start_time": "2021-05-09T02:05:45.079726",
     "status": "completed"
    },
    "tags": []
   },
   "outputs": [],
   "source": [
    "from sklearn import metrics\n",
    "from sklearn.metrics import r2_score, mean_absolute_error\n",
    "'''Get Predictions & Print Metrics'''\n",
    "predicts = model.predict(X_test)\n",
    "print(\"\"\"\n",
    "        Mean Squared Error: {}\n",
    "        R2 Score: {}\n",
    "        Mean Absolute Error: {}\n",
    "     \"\"\".format(\n",
    "        np.sqrt(metrics.mean_squared_error(y_test, predicts)),\n",
    "        r2_score(y_test,predicts),\n",
    "        mean_absolute_error(y_test,predicts)\n",
    "        ))"
   ]
  },
  {
   "cell_type": "markdown",
   "metadata": {
    "papermill": {
     "duration": 0.131004,
     "end_time": "2021-05-09T02:05:45.442477",
     "exception": false,
     "start_time": "2021-05-09T02:05:45.311473",
     "status": "completed"
    },
    "tags": []
   },
   "source": [
    "### Root Mean Square Error"
   ]
  },
  {
   "cell_type": "code",
   "execution_count": null,
   "metadata": {
    "_kg_hide-input": true,
    "execution": {
     "iopub.execute_input": "2021-05-09T02:05:45.660289Z",
     "iopub.status.busy": "2021-05-09T02:05:45.659402Z",
     "iopub.status.idle": "2021-05-09T02:05:45.663180Z",
     "shell.execute_reply": "2021-05-09T02:05:45.662625Z"
    },
    "papermill": {
     "duration": 0.11606,
     "end_time": "2021-05-09T02:05:45.663313",
     "exception": false,
     "start_time": "2021-05-09T02:05:45.547253",
     "status": "completed"
    },
    "tags": []
   },
   "outputs": [],
   "source": [
    "from sklearn.metrics import mean_squared_error\n",
    "import math\n",
    "rmse = math.sqrt(mean_squared_error(y_test,predicts))\n",
    "print('RMSE of the model:',rmse)"
   ]
  },
  {
   "cell_type": "markdown",
   "metadata": {
    "papermill": {
     "duration": 0.105568,
     "end_time": "2021-05-09T02:05:46.740032",
     "exception": false,
     "start_time": "2021-05-09T02:05:46.634464",
     "status": "completed"
    },
    "tags": []
   },
   "source": [
    "### Actual Vs Predicted Price"
   ]
  },
  {
   "cell_type": "code",
   "execution_count": null,
   "metadata": {
    "_kg_hide-input": true,
    "execution": {
     "iopub.execute_input": "2021-05-09T02:05:46.962680Z",
     "iopub.status.busy": "2021-05-09T02:05:46.961688Z",
     "iopub.status.idle": "2021-05-09T02:05:47.871853Z",
     "shell.execute_reply": "2021-05-09T02:05:47.871269Z"
    },
    "papermill": {
     "duration": 1.024734,
     "end_time": "2021-05-09T02:05:47.871993",
     "exception": false,
     "start_time": "2021-05-09T02:05:46.847259",
     "status": "completed"
    },
    "tags": []
   },
   "outputs": [],
   "source": [
    "error = pd.DataFrame({\n",
    "        'Actual Values': np.array(y_test).flatten(),\n",
    "        'Predicted Values': predicts.flatten()}).head(20)\n",
    "\n",
    "error.head(5)\n",
    "'''Plotly Visualizations'''\n",
    "import plotly as plotly                # Interactive Graphing Library for Python\n",
    "import plotly.express as px\n",
    "import plotly.graph_objects as go\n",
    "from plotly.offline import init_notebook_mode, iplot, plot\n",
    "init_notebook_mode(connected=True)\n",
    "\n",
    "\n",
    "title=['Pred vs Actual']\n",
    "fig = go.Figure(data=[\n",
    "    go.Bar(name='Predicted', x=error.index, y=error['Predicted Values']),\n",
    "    go.Bar(name='Actual', x=error.index, y=error['Actual Values'])\n",
    "])\n",
    "\n",
    "fig.update_layout(barmode='group')\n",
    "fig.show()\n"
   ]
  },
  {
   "cell_type": "markdown",
   "metadata": {
    "papermill": {
     "duration": 0.114178,
     "end_time": "2021-05-09T02:05:48.099140",
     "exception": false,
     "start_time": "2021-05-09T02:05:47.984962",
     "status": "completed"
    },
    "tags": []
   },
   "source": [
    "From the above plot  we can see that in most cases the difference in actual and predicted prices is quite low.There are some exemptions that s driving the overall accuracy of the model down."
   ]
  },
  {
   "cell_type": "markdown",
   "metadata": {
    "papermill": {
     "duration": 0.111818,
     "end_time": "2021-05-09T02:05:48.323556",
     "exception": false,
     "start_time": "2021-05-09T02:05:48.211738",
     "status": "completed"
    },
    "tags": []
   },
   "source": [
    "# 6.Conclusion:\n",
    "\n",
    "1.In ths Dataset we have data of some car models in USA.We have imported and explored the dataset.Many columns have missing data which we have imputed using various missing value handling techniques.\n",
    "\n",
    "2.After doing EDA we have got certain insights like -We have more Japanese Cars in the Dataset followed by European -We can see that 90% of the cars in the Data Set are Petrol.US is a Gasoline market unlike Europe and India which have more Share of Diesel Cars Most vehicle have standard Aspiration.The reason is this data set is very old.Now a days most vehicles have turbo system which improves efficiency and power output from an engine.We have many other observations which are mentioned above in the notebook\n",
    "\n",
    "3.We have used Linear Regression to predict he price of cars.We can further fine tune the model to get better accuracy."
   ]
  },
  {
   "cell_type": "markdown",
   "metadata": {
    "papermill": {
     "duration": 0.112346,
     "end_time": "2021-05-09T02:05:48.548481",
     "exception": false,
     "start_time": "2021-05-09T02:05:48.436135",
     "status": "completed"
    },
    "tags": []
   },
   "source": [
    "### notebook taken from https://www.kaggle.com/binuthomasphilip/code"
   ]
  }
 ],
 "metadata": {
  "kernelspec": {
   "display_name": "Python 3",
   "language": "python",
   "name": "python3"
  },
  "language_info": {
   "codemirror_mode": {
    "name": "ipython",
    "version": 3
   },
   "file_extension": ".py",
   "mimetype": "text/x-python",
   "name": "python",
   "nbconvert_exporter": "python",
   "pygments_lexer": "ipython3",
   "version": "3.9.5"
  },
  "papermill": {
   "default_parameters": {},
   "duration": 46.720975,
   "end_time": "2021-05-09T02:05:49.471244",
   "environment_variables": {},
   "exception": null,
   "input_path": "__notebook__.ipynb",
   "output_path": "__notebook__.ipynb",
   "parameters": {},
   "start_time": "2021-05-09T02:05:02.750269",
   "version": "2.2.2"
  }
 },
 "nbformat": 4,
 "nbformat_minor": 4
}
